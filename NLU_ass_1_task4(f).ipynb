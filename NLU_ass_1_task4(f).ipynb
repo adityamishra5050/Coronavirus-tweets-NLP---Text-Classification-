{
  "nbformat": 4,
  "nbformat_minor": 0,
  "metadata": {
    "colab": {
      "provenance": [],
      "include_colab_link": true
    },
    "kernelspec": {
      "name": "python3",
      "display_name": "Python 3"
    },
    "language_info": {
      "name": "python"
    },
    "accelerator": "GPU",
    "gpuClass": "standard",
    "widgets": {
      "application/vnd.jupyter.widget-state+json": {
        "270d0c2e04f04d93ae335511d1877d35": {
          "model_module": "@jupyter-widgets/controls",
          "model_name": "HBoxModel",
          "model_module_version": "1.5.0",
          "state": {
            "_dom_classes": [],
            "_model_module": "@jupyter-widgets/controls",
            "_model_module_version": "1.5.0",
            "_model_name": "HBoxModel",
            "_view_count": null,
            "_view_module": "@jupyter-widgets/controls",
            "_view_module_version": "1.5.0",
            "_view_name": "HBoxView",
            "box_style": "",
            "children": [
              "IPY_MODEL_34c25d1415e94f3898c28a1d49c6122e",
              "IPY_MODEL_8178ef66e8854c93a81a71fa08d417f9",
              "IPY_MODEL_f654b5afa518460f9170bfe695fbc278"
            ],
            "layout": "IPY_MODEL_24ae50cf276d414f9e7872f6d1e88e42"
          }
        },
        "34c25d1415e94f3898c28a1d49c6122e": {
          "model_module": "@jupyter-widgets/controls",
          "model_name": "HTMLModel",
          "model_module_version": "1.5.0",
          "state": {
            "_dom_classes": [],
            "_model_module": "@jupyter-widgets/controls",
            "_model_module_version": "1.5.0",
            "_model_name": "HTMLModel",
            "_view_count": null,
            "_view_module": "@jupyter-widgets/controls",
            "_view_module_version": "1.5.0",
            "_view_name": "HTMLView",
            "description": "",
            "description_tooltip": null,
            "layout": "IPY_MODEL_fb0293de1daa4a80afdf319b5567dc90",
            "placeholder": "​",
            "style": "IPY_MODEL_2a58b9c90aa8436ab0a32068c64988b5",
            "value": "100%"
          }
        },
        "8178ef66e8854c93a81a71fa08d417f9": {
          "model_module": "@jupyter-widgets/controls",
          "model_name": "FloatProgressModel",
          "model_module_version": "1.5.0",
          "state": {
            "_dom_classes": [],
            "_model_module": "@jupyter-widgets/controls",
            "_model_module_version": "1.5.0",
            "_model_name": "FloatProgressModel",
            "_view_count": null,
            "_view_module": "@jupyter-widgets/controls",
            "_view_module_version": "1.5.0",
            "_view_name": "ProgressView",
            "bar_style": "success",
            "description": "",
            "description_tooltip": null,
            "layout": "IPY_MODEL_502f984e6791428088a1e55361948df1",
            "max": 3,
            "min": 0,
            "orientation": "horizontal",
            "style": "IPY_MODEL_0e3c5c3cf42e43f3a94290c330c3d68e",
            "value": 3
          }
        },
        "f654b5afa518460f9170bfe695fbc278": {
          "model_module": "@jupyter-widgets/controls",
          "model_name": "HTMLModel",
          "model_module_version": "1.5.0",
          "state": {
            "_dom_classes": [],
            "_model_module": "@jupyter-widgets/controls",
            "_model_module_version": "1.5.0",
            "_model_name": "HTMLModel",
            "_view_count": null,
            "_view_module": "@jupyter-widgets/controls",
            "_view_module_version": "1.5.0",
            "_view_name": "HTMLView",
            "description": "",
            "description_tooltip": null,
            "layout": "IPY_MODEL_87ffde32933e4cb3b811e17b6a2611d6",
            "placeholder": "​",
            "style": "IPY_MODEL_e4b3ef942d92465581a23103b7ddcd2c",
            "value": " 3/3 [08:07&lt;00:00, 163.67s/it]"
          }
        },
        "24ae50cf276d414f9e7872f6d1e88e42": {
          "model_module": "@jupyter-widgets/base",
          "model_name": "LayoutModel",
          "model_module_version": "1.2.0",
          "state": {
            "_model_module": "@jupyter-widgets/base",
            "_model_module_version": "1.2.0",
            "_model_name": "LayoutModel",
            "_view_count": null,
            "_view_module": "@jupyter-widgets/base",
            "_view_module_version": "1.2.0",
            "_view_name": "LayoutView",
            "align_content": null,
            "align_items": null,
            "align_self": null,
            "border": null,
            "bottom": null,
            "display": null,
            "flex": null,
            "flex_flow": null,
            "grid_area": null,
            "grid_auto_columns": null,
            "grid_auto_flow": null,
            "grid_auto_rows": null,
            "grid_column": null,
            "grid_gap": null,
            "grid_row": null,
            "grid_template_areas": null,
            "grid_template_columns": null,
            "grid_template_rows": null,
            "height": null,
            "justify_content": null,
            "justify_items": null,
            "left": null,
            "margin": null,
            "max_height": null,
            "max_width": null,
            "min_height": null,
            "min_width": null,
            "object_fit": null,
            "object_position": null,
            "order": null,
            "overflow": null,
            "overflow_x": null,
            "overflow_y": null,
            "padding": null,
            "right": null,
            "top": null,
            "visibility": null,
            "width": null
          }
        },
        "fb0293de1daa4a80afdf319b5567dc90": {
          "model_module": "@jupyter-widgets/base",
          "model_name": "LayoutModel",
          "model_module_version": "1.2.0",
          "state": {
            "_model_module": "@jupyter-widgets/base",
            "_model_module_version": "1.2.0",
            "_model_name": "LayoutModel",
            "_view_count": null,
            "_view_module": "@jupyter-widgets/base",
            "_view_module_version": "1.2.0",
            "_view_name": "LayoutView",
            "align_content": null,
            "align_items": null,
            "align_self": null,
            "border": null,
            "bottom": null,
            "display": null,
            "flex": null,
            "flex_flow": null,
            "grid_area": null,
            "grid_auto_columns": null,
            "grid_auto_flow": null,
            "grid_auto_rows": null,
            "grid_column": null,
            "grid_gap": null,
            "grid_row": null,
            "grid_template_areas": null,
            "grid_template_columns": null,
            "grid_template_rows": null,
            "height": null,
            "justify_content": null,
            "justify_items": null,
            "left": null,
            "margin": null,
            "max_height": null,
            "max_width": null,
            "min_height": null,
            "min_width": null,
            "object_fit": null,
            "object_position": null,
            "order": null,
            "overflow": null,
            "overflow_x": null,
            "overflow_y": null,
            "padding": null,
            "right": null,
            "top": null,
            "visibility": null,
            "width": null
          }
        },
        "2a58b9c90aa8436ab0a32068c64988b5": {
          "model_module": "@jupyter-widgets/controls",
          "model_name": "DescriptionStyleModel",
          "model_module_version": "1.5.0",
          "state": {
            "_model_module": "@jupyter-widgets/controls",
            "_model_module_version": "1.5.0",
            "_model_name": "DescriptionStyleModel",
            "_view_count": null,
            "_view_module": "@jupyter-widgets/base",
            "_view_module_version": "1.2.0",
            "_view_name": "StyleView",
            "description_width": ""
          }
        },
        "502f984e6791428088a1e55361948df1": {
          "model_module": "@jupyter-widgets/base",
          "model_name": "LayoutModel",
          "model_module_version": "1.2.0",
          "state": {
            "_model_module": "@jupyter-widgets/base",
            "_model_module_version": "1.2.0",
            "_model_name": "LayoutModel",
            "_view_count": null,
            "_view_module": "@jupyter-widgets/base",
            "_view_module_version": "1.2.0",
            "_view_name": "LayoutView",
            "align_content": null,
            "align_items": null,
            "align_self": null,
            "border": null,
            "bottom": null,
            "display": null,
            "flex": null,
            "flex_flow": null,
            "grid_area": null,
            "grid_auto_columns": null,
            "grid_auto_flow": null,
            "grid_auto_rows": null,
            "grid_column": null,
            "grid_gap": null,
            "grid_row": null,
            "grid_template_areas": null,
            "grid_template_columns": null,
            "grid_template_rows": null,
            "height": null,
            "justify_content": null,
            "justify_items": null,
            "left": null,
            "margin": null,
            "max_height": null,
            "max_width": null,
            "min_height": null,
            "min_width": null,
            "object_fit": null,
            "object_position": null,
            "order": null,
            "overflow": null,
            "overflow_x": null,
            "overflow_y": null,
            "padding": null,
            "right": null,
            "top": null,
            "visibility": null,
            "width": null
          }
        },
        "0e3c5c3cf42e43f3a94290c330c3d68e": {
          "model_module": "@jupyter-widgets/controls",
          "model_name": "ProgressStyleModel",
          "model_module_version": "1.5.0",
          "state": {
            "_model_module": "@jupyter-widgets/controls",
            "_model_module_version": "1.5.0",
            "_model_name": "ProgressStyleModel",
            "_view_count": null,
            "_view_module": "@jupyter-widgets/base",
            "_view_module_version": "1.2.0",
            "_view_name": "StyleView",
            "bar_color": null,
            "description_width": ""
          }
        },
        "87ffde32933e4cb3b811e17b6a2611d6": {
          "model_module": "@jupyter-widgets/base",
          "model_name": "LayoutModel",
          "model_module_version": "1.2.0",
          "state": {
            "_model_module": "@jupyter-widgets/base",
            "_model_module_version": "1.2.0",
            "_model_name": "LayoutModel",
            "_view_count": null,
            "_view_module": "@jupyter-widgets/base",
            "_view_module_version": "1.2.0",
            "_view_name": "LayoutView",
            "align_content": null,
            "align_items": null,
            "align_self": null,
            "border": null,
            "bottom": null,
            "display": null,
            "flex": null,
            "flex_flow": null,
            "grid_area": null,
            "grid_auto_columns": null,
            "grid_auto_flow": null,
            "grid_auto_rows": null,
            "grid_column": null,
            "grid_gap": null,
            "grid_row": null,
            "grid_template_areas": null,
            "grid_template_columns": null,
            "grid_template_rows": null,
            "height": null,
            "justify_content": null,
            "justify_items": null,
            "left": null,
            "margin": null,
            "max_height": null,
            "max_width": null,
            "min_height": null,
            "min_width": null,
            "object_fit": null,
            "object_position": null,
            "order": null,
            "overflow": null,
            "overflow_x": null,
            "overflow_y": null,
            "padding": null,
            "right": null,
            "top": null,
            "visibility": null,
            "width": null
          }
        },
        "e4b3ef942d92465581a23103b7ddcd2c": {
          "model_module": "@jupyter-widgets/controls",
          "model_name": "DescriptionStyleModel",
          "model_module_version": "1.5.0",
          "state": {
            "_model_module": "@jupyter-widgets/controls",
            "_model_module_version": "1.5.0",
            "_model_name": "DescriptionStyleModel",
            "_view_count": null,
            "_view_module": "@jupyter-widgets/base",
            "_view_module_version": "1.2.0",
            "_view_name": "StyleView",
            "description_width": ""
          }
        }
      }
    }
  },
  "cells": [
    {
      "cell_type": "markdown",
      "metadata": {
        "id": "view-in-github",
        "colab_type": "text"
      },
      "source": [
        "<a href=\"https://colab.research.google.com/github/adityamishra5050/Coronavirus-tweets-NLP---Text-Classification-/blob/main/NLU_ass_1_task4(f).ipynb\" target=\"_parent\"><img src=\"https://colab.research.google.com/assets/colab-badge.svg\" alt=\"Open In Colab\"/></a>"
      ]
    },
    {
      "cell_type": "code",
      "source": [
        "import os\n",
        "import torch\n",
        "import re\n",
        "import copy\n",
        "import torch.nn as nn\n",
        "from torch.nn import Embedding\n",
        "from pathlib import Path\n",
        "\n",
        "import numpy as np\n",
        "import pandas as pd\n",
        "from torch.utils.data import Dataset, DataLoader, random_split\n",
        "\n",
        "from torch import nn,optim\n",
        "from tqdm.notebook import tqdm\n",
        "\n",
        "from torch.optim import Adam\n",
        "# from sklearn.metrics import precision_recall_fscore_support"
      ],
      "metadata": {
        "id": "HUT9Pbql9W5h"
      },
      "execution_count": null,
      "outputs": []
    },
    {
      "cell_type": "code",
      "source": [
        "Corona_NLP_train=pd.read_csv(\"/content/drive/MyDrive/Corona_NLP_train.csv\",encoding='latin1')"
      ],
      "metadata": {
        "id": "LZQF3wFl9eWz"
      },
      "execution_count": null,
      "outputs": []
    },
    {
      "cell_type": "code",
      "source": [
        "Corona_NLP_test=pd.read_csv(\"/content/drive/MyDrive/Corona_NLP_test.csv\",encoding='latin1')"
      ],
      "metadata": {
        "id": "HMvov39H9lyn"
      },
      "execution_count": null,
      "outputs": []
    },
    {
      "cell_type": "code",
      "source": [
        "embed_dim = 300"
      ],
      "metadata": {
        "id": "ctAGX-yT93nb"
      },
      "execution_count": null,
      "outputs": []
    },
    {
      "cell_type": "code",
      "source": [
        "pip install pandas"
      ],
      "metadata": {
        "colab": {
          "base_uri": "https://localhost:8080/"
        },
        "id": "RkRbMi8KBA96",
        "outputId": "75a81c6a-5cd0-4768-998a-cc96c68779b0"
      },
      "execution_count": null,
      "outputs": [
        {
          "output_type": "stream",
          "name": "stdout",
          "text": [
            "Looking in indexes: https://pypi.org/simple, https://us-python.pkg.dev/colab-wheels/public/simple/\n",
            "Requirement already satisfied: pandas in /usr/local/lib/python3.8/dist-packages (1.3.5)\n",
            "Requirement already satisfied: numpy>=1.17.3 in /usr/local/lib/python3.8/dist-packages (from pandas) (1.22.4)\n",
            "Requirement already satisfied: python-dateutil>=2.7.3 in /usr/local/lib/python3.8/dist-packages (from pandas) (2.8.2)\n",
            "Requirement already satisfied: pytz>=2017.3 in /usr/local/lib/python3.8/dist-packages (from pandas) (2022.7.1)\n",
            "Requirement already satisfied: six>=1.5 in /usr/local/lib/python3.8/dist-packages (from python-dateutil>=2.7.3->pandas) (1.15.0)\n"
          ]
        }
      ]
    },
    {
      "cell_type": "code",
      "source": [
        "import pandas as pd"
      ],
      "metadata": {
        "id": "If4IaQIkBDT3"
      },
      "execution_count": null,
      "outputs": []
    },
    {
      "cell_type": "code",
      "source": [
        "# word_dictis a mapping dictionary of words to ids，\n",
        "# <pading>The meaning is to add 0, stands for unknown words, in fact, words that are not in the glove word vector will be considered as<unk>\n",
        "word_dict = {'<pading>':0,\"<unk>\": 1}\n",
        "\n",
        "\n",
        "# Load the glove pre-trained word vector of the corresponding length. The larger the dimension, the slower the loading of the word vector. The 300-dimensional word vector file has1G\n",
        "glove_path = Path(\"/content/drive/MyDrive/glove.6B.300d.txt/glove.6B.300d.txt\")\n",
        "glove_df = pd.read_csv(glove_path , sep=\" \", quoting=3, header=None, index_col=0)\n",
        "# Generate the corresponding dictionary form, the key is a word, and the value is a word vector\n",
        "glove_dict = {key: val.values for key, val in glove_df.T.items()}"
      ],
      "metadata": {
        "id": "bXYFk0BJ-CkL"
      },
      "execution_count": null,
      "outputs": []
    },
    {
      "cell_type": "code",
      "source": [
        "def word_tokenize(text: str):\n",
        "    \"\"\"\n",
        "    This is a function for segmenting words. In addition to simplifying word segmentation, this function，\n",
        "    It will also complete the word_dict to generate a complete vocabulary mapping\n",
        "    \"\"\"\n",
        "    word_index = []\n",
        "    pat = re.compile(r\"[\\w]+|[.,!?;|]\")\n",
        "    tokens = pat.findall(text.lower())\n",
        "    for token in tokens:\n",
        "        if token not in word_dict:\n",
        "            word_dict[token] = len(word_dict) if token in glove_dict else word_dict[\"<unk>\"]\n",
        "        word_index.append(word_dict[token])\n",
        "    return word_index"
      ],
      "metadata": {
        "id": "Ha5GyjR3CbrC"
      },
      "execution_count": null,
      "outputs": []
    },
    {
      "cell_type": "code",
      "source": [
        "# Word segmentation of training set and test set\n",
        "corona_train = Corona_NLP_train[\"OriginalTweet\"].apply(lambda s: word_tokenize(str(s)))\n",
        "test_text = Corona_NLP_test[\"OriginalTweet\"].apply(lambda s: word_tokenize(str(s)))"
      ],
      "metadata": {
        "id": "njnbeHjuClu7"
      },
      "execution_count": null,
      "outputs": []
    },
    {
      "cell_type": "code",
      "source": [
        "len(word_dict)  # Vocabulary size 85091"
      ],
      "metadata": {
        "colab": {
          "base_uri": "https://localhost:8080/"
        },
        "id": "DbRwTI6ECo-5",
        "outputId": "7095f9fd-26f6-455c-e5a2-c822cecf08b4"
      },
      "execution_count": null,
      "outputs": [
        {
          "output_type": "execute_result",
          "data": {
            "text/plain": [
              "85091"
            ]
          },
          "metadata": {},
          "execution_count": 10
        }
      ]
    },
    {
      "cell_type": "code",
      "source": [
        "corona_train.apply(lambda x:len(x)).describe()"
      ],
      "metadata": {
        "colab": {
          "base_uri": "https://localhost:8080/"
        },
        "id": "bvXGLHR9CsNh",
        "outputId": "3dd5b1ff-fa43-4a96-9346-47c45f2a874b"
      },
      "execution_count": null,
      "outputs": [
        {
          "output_type": "execute_result",
          "data": {
            "text/plain": [
              "count    41157.000000\n",
              "mean        36.377093\n",
              "std         13.705114\n",
              "min          1.000000\n",
              "25%         26.000000\n",
              "50%         37.000000\n",
              "75%         47.000000\n",
              "max        232.000000\n",
              "Name: OriginalTweet, dtype: float64"
            ]
          },
          "metadata": {},
          "execution_count": 11
        }
      ]
    },
    {
      "cell_type": "code",
      "source": [
        "MAX_LENGTH = 240  # maximum sentence length\n",
        "corona_train = corona_train.apply(lambda x:(x+[0]*MAX_LENGTH)[:MAX_LENGTH])\n",
        "test_text = test_text.apply(lambda x:(x+[0]*MAX_LENGTH)[:MAX_LENGTH])"
      ],
      "metadata": {
        "id": "bcc_uYP7Cv-J"
      },
      "execution_count": null,
      "outputs": []
    },
    {
      "cell_type": "code",
      "source": [
        "s2i = {'Positive':1,'Extremely Positive':0,'Neutral':2,'Extremely Negative':4,'Negative':3}\n",
        "Corona_NLP_train['Sentiment']=Corona_NLP_train['Sentiment'].replace(s2i).astype(int)\n",
        "Corona_NLP_test['Sentiment']=Corona_NLP_test['Sentiment'].replace(s2i).astype(int)"
      ],
      "metadata": {
        "id": "7RVgp38KCyyQ"
      },
      "execution_count": null,
      "outputs": []
    },
    {
      "cell_type": "code",
      "source": [
        "# The pre-trained word vector matrix, which will be directly input into the embedding layer later\n",
        "glove_embeddings = np.zeros((len(word_dict), embed_dim))\n"
      ],
      "metadata": {
        "id": "9AiZM-zvC2Z8"
      },
      "execution_count": null,
      "outputs": []
    },
    {
      "cell_type": "code",
      "source": [
        "class CommentDataset(Dataset):\n",
        "    def __init__(self,texts,labels):\n",
        "        self.texts=texts\n",
        "        self.labels=labels\n",
        "    def __len__(self):\n",
        "        return len(self.texts)\n",
        "\n",
        "    def __getitem__(self,item):\n",
        "        \"\"\"\n",
        "        item For the data index, iterate to fetch item data\n",
        "        \"\"\"\n",
        "        text=torch.tensor(self.texts[item],dtype=torch.long)\n",
        "        label=torch.tensor(self.labels[item],dtype=torch.long)\n",
        "        return {'text_id':text,'label':label}\n",
        "def create_data_loader(X,y,batch_size):\n",
        "    ds=CommentDataset(\n",
        "        texts = X.values,\n",
        "        labels=y.values\n",
        "    )\n",
        "    return DataLoader(\n",
        "        ds,\n",
        "        batch_size=batch_size\n",
        "    )"
      ],
      "metadata": {
        "id": "VLiphYWRD0y-"
      },
      "execution_count": null,
      "outputs": []
    },
    {
      "cell_type": "code",
      "source": [
        "BATCH_SIZE = 128\n",
        "corona_train_data_load = create_data_loader(corona_train,Corona_NLP_train['Sentiment'], BATCH_SIZE)\n",
        "corona_val_data_load = create_data_loader(test_text,Corona_NLP_test['Sentiment'], BATCH_SIZE)"
      ],
      "metadata": {
        "id": "GgcNCdsUD54q"
      },
      "execution_count": null,
      "outputs": []
    },
    {
      "cell_type": "code",
      "source": [
        "next(iter(corona_train_data_load))"
      ],
      "metadata": {
        "colab": {
          "base_uri": "https://localhost:8080/"
        },
        "id": "pEXKxTc-D9gz",
        "outputId": "e1f20619-0740-45c2-d336-bc8b6a0275ee"
      },
      "execution_count": null,
      "outputs": [
        {
          "output_type": "execute_result",
          "data": {
            "text/plain": [
              "{'text_id': tensor([[   1,    1,    1,  ...,    0,    0,    0],\n",
              "         [  13,   14,   15,  ...,    0,    0,    0],\n",
              "         [  46,   47,   48,  ...,    0,    0,    0],\n",
              "         ...,\n",
              "         [  36,    1,  421,  ...,    0,    0,    0],\n",
              "         [1496,   63, 1497,  ...,    0,    0,    0],\n",
              "         [   1,   78,  281,  ...,    0,    0,    0]]),\n",
              " 'label': tensor([2, 1, 1, 1, 4, 1, 1, 2, 1, 3, 2, 0, 0, 1, 1, 1, 2, 2, 0, 1, 4, 2, 0, 0,\n",
              "         3, 0, 3, 4, 3, 4, 3, 0, 2, 0, 3, 2, 1, 1, 3, 1, 0, 1, 4, 2, 2, 3, 0, 1,\n",
              "         0, 2, 4, 2, 3, 1, 4, 0, 4, 1, 0, 2, 3, 2, 1, 0, 2, 4, 3, 3, 1, 1, 2, 1,\n",
              "         2, 2, 1, 0, 4, 3, 4, 1, 1, 1, 4, 3, 4, 1, 3, 2, 3, 0, 0, 3, 3, 0, 1, 0,\n",
              "         1, 1, 1, 3, 4, 3, 0, 1, 4, 0, 1, 4, 2, 1, 1, 1, 3, 1, 4, 1, 3, 1, 3, 1,\n",
              "         4, 0, 3, 1, 0, 4, 4, 3])}"
            ]
          },
          "metadata": {},
          "execution_count": 17
        }
      ]
    },
    {
      "cell_type": "code",
      "source": [
        "class Model(nn.Module):\n",
        "    def __init__(self,weight, embed_dim=300):\n",
        "        super(Model, self).__init__()\n",
        "        self.embedding = nn.Embedding.from_pretrained(weight,freeze=False)  #_______________Still training word vectors\n",
        "        self.Linear = nn.Linear(embed_dim,5)\n",
        "    def forward(self, X):\n",
        "        X = self.embedding(X)   # _______________________________________________________[b,240] ==> [b,240,300]\n",
        "        X = X.mean(dim=1)       # _______________________________________________________[b,240] ==> [b,300]\n",
        "        out = self.Linear(X)    # _______________________________________________________[b,300] ==> [b,5]\n",
        "        return out\n",
        "\n",
        "class GRUModel(nn.Module):\n",
        "    def __init__(self,weight, embed_dim=300,hidden_size=512):\n",
        "        super(GRUModel, self).__init__()\n",
        "        self.embedding = nn.Embedding.from_pretrained(weight,freeze=False)  # Still training word vectors\n",
        "        self.rnn = nn.GRU(300,hidden_size,batch_first=True,num_layers=2,bidirectional=True,dropout=0.3)\n",
        "        self.linear = nn.Linear(hidden_size*2,hidden_size)\n",
        "        self.dropout = nn.Dropout(0.5)\n",
        "        self.out = nn.Linear(hidden_size,5)\n",
        "    def forward(self, X):\n",
        "        X = self.embedding(X) # [b,240] ==> [b,240,300]\n",
        "        X,_ = self.rnn(X)     #  [b,240,300] ==>  [b, 240, hidden_size*2]\n",
        "        X = self.dropout(self.linear(X)) # [b, 240, hidden_size*2] ==> [b, 240, hidden_size]\n",
        "        X = X.mean(dim=1)  # [b, 240, hidden_size] ==> [b,hidden_size]\n",
        "        out = self.out(X) # [b,hidden_size] ==> [b,5]\n",
        "        return out"
      ],
      "metadata": {
        "id": "raefS3ulEGom"
      },
      "execution_count": null,
      "outputs": []
    },
    {
      "cell_type": "code",
      "source": [
        "from collections import defaultdict\n",
        "history = defaultdict(list)\n",
        "\n",
        "device = torch.device('cuda' if torch.cuda.is_available() else 'cpu') # Set up CUDA\n",
        "Number_of_epochs = 3     # Set the number of model training times\n",
        "Lr_rate = 3e-4  # initial learning rate\n",
        "\n",
        "model= GRUModel(torch.from_numpy(glove_embeddings).float())\n",
        "model = model.to(device)\n",
        "# optimizer\n",
        "optimizer = Adam(model.parameters(),Lr_rate)\n",
        "\n",
        "# loss\n",
        "criterion = nn.CrossEntropyLoss().to(device)\n",
        "for epoch in tqdm(range(Number_of_epochs)):\n",
        "    #Enable training mode for the model\n",
        "    model.train()\n",
        "    # Define loss\n",
        "    loss_of_epoch = 0\n",
        "    accuracy_of_epoch = 0\n",
        "    validation_no = 0\n",
        "    for batch in corona_train_data_load:\n",
        "        text_id = batch['text_id'].to(device)\n",
        "        label = batch['label'].to(device)\n",
        "        predictions = model(text_id)\n",
        "        loss = criterion(predictions, label)\n",
        "        loss_of_epoch += loss.item()\n",
        "        loss.backward()\n",
        "        optimizer.step()\n",
        "        optimizer.zero_grad()\n",
        "\n",
        "        preds = predictions.max(1)[1]\n",
        "        accuracy_of_epoch += ((preds==label).sum().item())\n",
        "        validation_no += label.size(0)\n",
        "    history['train_loss'].append(loss_of_epoch / len(corona_train_data_load))\n",
        "    history['train_accuracy'].append(accuracy_of_epoch / validation_no)\n",
        "    print(f'No.{epoch+1}wheel，trainLoss：',loss_of_epoch / len(corona_train_data_load),'，training accuracy：',accuracy_of_epoch / validation_no)\n",
        "\n",
        "    model.eval()\n",
        "    # initialization loss\n",
        "    loss_of_epoch = 0\n",
        "    accuracy_of_epoch = 0\n",
        "    validation_no = 0\n",
        "\n",
        "    #do not compute gradients\n",
        "    with torch.no_grad():\n",
        "        for batch in corona_val_data_load:\n",
        "            text_id = batch['text_id'].to(device)\n",
        "            label = batch['label'].to(device)\n",
        "            predictions = model(text_id)\n",
        "            loss = criterion(predictions, label)\n",
        "            loss_of_epoch += loss.item()\n",
        "            preds = predictions.max(1)[1]\n",
        "            accuracy_of_epoch += ((preds==label).sum().item())\n",
        "            validation_no += label.size(0)\n",
        "    history['test_loss'].append(loss_of_epoch / len(corona_val_data_load))\n",
        "    history['test_accuracy'].append(accuracy_of_epoch / validation_no)\n",
        "    print(f'No.{epoch+1}wheel,testLoss：',loss_of_epoch / len(corona_val_data_load),'，test accuracy：',accuracy_of_epoch / validation_no)\n",
        "    print('-'*20)"
      ],
      "metadata": {
        "colab": {
          "base_uri": "https://localhost:8080/",
          "height": 205,
          "referenced_widgets": [
            "270d0c2e04f04d93ae335511d1877d35",
            "34c25d1415e94f3898c28a1d49c6122e",
            "8178ef66e8854c93a81a71fa08d417f9",
            "f654b5afa518460f9170bfe695fbc278",
            "24ae50cf276d414f9e7872f6d1e88e42",
            "fb0293de1daa4a80afdf319b5567dc90",
            "2a58b9c90aa8436ab0a32068c64988b5",
            "502f984e6791428088a1e55361948df1",
            "0e3c5c3cf42e43f3a94290c330c3d68e",
            "87ffde32933e4cb3b811e17b6a2611d6",
            "e4b3ef942d92465581a23103b7ddcd2c"
          ]
        },
        "id": "Usj55cAvEIc-",
        "outputId": "d47ba68d-4dc6-439e-809d-433688cd8121"
      },
      "execution_count": null,
      "outputs": [
        {
          "output_type": "display_data",
          "data": {
            "text/plain": [
              "  0%|          | 0/3 [00:00<?, ?it/s]"
            ],
            "application/vnd.jupyter.widget-view+json": {
              "version_major": 2,
              "version_minor": 0,
              "model_id": "270d0c2e04f04d93ae335511d1877d35"
            }
          },
          "metadata": {}
        },
        {
          "output_type": "stream",
          "name": "stdout",
          "text": [
            "No.1wheel，trainLoss： 1.4084652834427283 ，training accuracy： 0.3749544427436402\n",
            "No.1wheel,testLoss： 1.1523190100987752 ，test accuracy： 0.5250131648235914\n",
            "--------------------\n",
            "No.2wheel，trainLoss： 0.8014014341075968 ，training accuracy： 0.7018976115849066\n",
            "No.2wheel,testLoss： 0.7583661198616027 ，test accuracy： 0.731437598736177\n",
            "--------------------\n",
            "No.3wheel，trainLoss： 0.5343843768842472 ，training accuracy： 0.8147581213402337\n",
            "No.3wheel,testLoss： 0.7021308382352193 ，test accuracy： 0.7601369141653502\n",
            "--------------------\n"
          ]
        }
      ]
    },
    {
      "cell_type": "code",
      "source": [
        "import matplotlib.pyplot as plt\n",
        "\n",
        "plt.style.use('seaborn-whitegrid')\n",
        "plt.figure(figsize=(12,5),dpi=150)\n",
        "plt.subplot(1,2,1)\n",
        "plt.plot(history['train_loss'],label='Train_loss')\n",
        "plt.plot(history['test_loss'],label='Test_loss')\n",
        "plt.legend(frameon=True)\n",
        "\n",
        "plt.subplot(1,2,2)\n",
        "plt.plot(history['train_accuracy'],label='Train_Accuracy')\n",
        "plt.plot(history['test_accuracy'],label='Test_Accuracy')\n",
        "plt.legend(frameon=True)\n",
        "\n",
        "plt.show()"
      ],
      "metadata": {
        "colab": {
          "base_uri": "https://localhost:8080/",
          "height": 360
        },
        "id": "lvcpHFqyMeuL",
        "outputId": "fd7f700b-7975-4f89-bd7b-757917b5cce1"
      },
      "execution_count": null,
      "outputs": [
        {
          "output_type": "display_data",
          "data": {
            "text/plain": [
              "<Figure size 1800x750 with 2 Axes>"
            ],
            "image/png": "[encoded data removed]"
          },
          "metadata": {}
        }
      ]
    }
  ]
}